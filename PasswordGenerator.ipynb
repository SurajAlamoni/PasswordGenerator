{
 "cells": [
  {
   "cell_type": "code",
   "execution_count": null,
   "id": "9b989781",
   "metadata": {},
   "outputs": [],
   "source": [
    "# PyPassword Generator\n",
    "import random\n",
    "\n",
    "alphabets = ['a', 'b', 'c', 'd', 'e', 'f', 'g', 'h', 'i', 'j', 'k', 'l', 'm', 'n', 'o', 'p', 'q', 'r', 's', 't', 'u', 'v', 'w', 'x', 'y', 'z','A', 'B', 'C', 'D', 'E', 'F', 'G', 'H', 'I', 'J', 'K', 'L', 'M', 'N', 'O', 'P', 'Q', 'R', 'S', 'T', 'U', 'V', 'W', 'X', 'Y', 'Z']\n",
    "numbers = ['0', '1', '2', '3', '4', '5', '6', '7', '8', '9']\n",
    "chars = ['%','!','#','$','*']\n",
    "\n",
    "value = int(input(\"how many alphabets do u want\"))\n",
    "numbs = int(input(\"how many numbs u want\"))\n",
    "ch = int(input(\"how many symbols u want\"))\n",
    "\n",
    "password = []\n",
    "for n in range(1,value+1):\n",
    "    password += random.choice(alphabets)\n",
    "\n",
    "for n in range(1,numbs+1):\n",
    "    password += random.choice(numbers)\n",
    "\n",
    "for n in range(1,ch+1):\n",
    "    password += random.choice(chars)\n",
    "\n",
    "random.shuffle(password)\n",
    "# print(password)\n",
    "\n",
    "final = \"\"\n",
    "for c in password:\n",
    "    final += c\n",
    "    \n",
    "print(final)"
   ]
  },
  {
   "cell_type": "code",
   "execution_count": null,
   "id": "0978a498",
   "metadata": {},
   "outputs": [],
   "source": []
  }
 ],
 "metadata": {
  "kernelspec": {
   "display_name": "Python 3 (ipykernel)",
   "language": "python",
   "name": "python3"
  },
  "language_info": {
   "codemirror_mode": {
    "name": "ipython",
    "version": 3
   },
   "file_extension": ".py",
   "mimetype": "text/x-python",
   "name": "python",
   "nbconvert_exporter": "python",
   "pygments_lexer": "ipython3",
   "version": "3.9.7"
  }
 },
 "nbformat": 4,
 "nbformat_minor": 5
}
